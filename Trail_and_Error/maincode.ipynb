{
 "cells": [
  {
   "cell_type": "code",
   "execution_count": null,
   "id": "504a5a0d",
   "metadata": {},
   "outputs": [],
   "source": [
    "from flask import Flask, jsonify, request\n",
    "\n",
    "# Library used for opening and reading\n",
    "import urllib.request\n",
    "\n",
    "# Used for parsing all the tables present in the WebSite\n",
    "#from html_table_parser.parser import HTMLTableParser\n",
    "\n",
    "# Used to Convert Parsed data into a pandas dataframe\n",
    "import pandas as pd\n",
    "\n",
    "# Importing Date for creating file :\n",
    "from datetime import datetime\n",
    "\n",
    "# Importing Json\n",
    "import json\n",
    "\n",
    "# from pymongo import MongoClient\n",
    "import pymongo\n",
    "\n",
    "import traceback\n",
    "\n",
    "# Creating Database connection\n",
    "myclient = pymongo.MongoClient(\"localhost\", 27017)\n",
    "\n",
    "# database\n",
    "db = myclient[\"Cars_test\"]\n",
    "\n",
    "# Created or Switched to collection\n",
    "Collection = db[\"Data_test\"]\n",
    "\n"
   ]
  },
  {
   "cell_type": "code",
   "execution_count": null,
   "id": "bc5a802a",
   "metadata": {},
   "outputs": [],
   "source": [
    "# http://127.0.0.1:5000/generate_json?url=https://www.auto-data.net/en/audi-100-avant-4a-c4-2.8-e-174hp-automatic-26292\n",
    "# creating a Flask app\n",
    "app = Flask(__name__)\n",
    "@app.route(\"/generate_json\")\n",
    "def generate_json():\n",
    "\n",
    "    try:\n",
    "        url = request.args.get(\"url\")\n",
    "        # defining the html contents of a URL.\n",
    "        xhtml = get_data(url).decode(\"utf-8\")\n",
    "\n",
    "        # Defining the HTMLTableParser object\n",
    "        parser = HTMLTableParser()\n",
    "\n",
    "        # Storing the returned html data in the HTMLTableParser object.\n",
    "        parser.feed(xhtml)\n",
    "\n",
    "        # Converting the parsed data to PandasDataFrame.\n",
    "        pd.set_option(\"display.max_rows\", len(parser.tables[1]))\n",
    "        print(\"\\n\\nPANDAS DATAFRAME\\n\")\n",
    "        print(pd.DataFrame(parser.tables[1]))\n",
    "        df = pd.DataFrame(parser.tables[1])\n",
    "        df.dropna(inplace=True)\n",
    "\n",
    "        # now = datetime.now()\n",
    "        # dt_string = now.strftime(\"%d%m%Y%H%M%S\")\n",
    "        df.to_json(\"temp\" \".json\",  orient = 'values')\n",
    "\n",
    "        dump_data()\n",
    "\n",
    "        return jsonify(\"Data Inserted Successfully\")\n",
    "    except Exception as ex:\n",
    "        print(\"Exception in generate_json : \",(str(ex)))\n",
    "        print(traceback.print_exc())\n",
    "        return jsonify(\"Exception in generate_json.\")"
   ]
  },
  {
   "cell_type": "code",
   "execution_count": null,
   "id": "cab85e21",
   "metadata": {},
   "outputs": [],
   "source": [
    "# This functions opens a website and reads its contents (HTTP Response Body)\n",
    "def get_data(url):\n",
    "    try:\n",
    "        # making request to the website\n",
    "        req = urllib.request.Request(url=url)\n",
    "        d = urllib.request.urlopen(req)\n",
    "\n",
    "        # reading contents of the website\n",
    "        return d.read()\n",
    "    except Exception as ex:\n",
    "        print(\"Exception in get_data : \",(str(ex)))"
   ]
  },
  {
   "cell_type": "code",
   "execution_count": null,
   "id": "eb714a1d",
   "metadata": {},
   "outputs": [],
   "source": [
    "# Creating UDF for importing Data into mongoDB\n",
    "def dump_data():\n",
    "    try:\n",
    "        # Loading or Opening the json file\n",
    "        strData = \"\"\n",
    "        with open(\"temp.json\") as reader:\n",
    "            for i in reader:\n",
    "                strData = i\n",
    "            strData = {strData: strData}\n",
    "            print(\"Data Type : \", type(strData))\n",
    "        # file_data = json.load(file)\n",
    "\n",
    "        # Inserting the loaded data in the Collection\n",
    "        Collection.insert_many([strData])\n",
    "    except Exception as ex:\n",
    "        print(\"Exception in dump : \",(str(ex)))"
   ]
  },
  {
   "cell_type": "code",
   "execution_count": null,
   "id": "e4bdc696",
   "metadata": {},
   "outputs": [],
   "source": [
    "# driver function\n",
    "if __name__ == \"__main__\":\n",
    "    app.run(debug=True)"
   ]
  }
 ],
 "metadata": {
  "kernelspec": {
   "display_name": "Python 3",
   "language": "python",
   "name": "python3"
  },
  "language_info": {
   "codemirror_mode": {
    "name": "ipython",
    "version": 3
   },
   "file_extension": ".py",
   "mimetype": "text/x-python",
   "name": "python",
   "nbconvert_exporter": "python",
   "pygments_lexer": "ipython3",
   "version": "3.8.8"
  }
 },
 "nbformat": 4,
 "nbformat_minor": 5
}
