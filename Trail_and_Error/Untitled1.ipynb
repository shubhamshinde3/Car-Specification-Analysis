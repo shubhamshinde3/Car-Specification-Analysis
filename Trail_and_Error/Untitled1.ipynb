{
 "cells": [
  {
   "cell_type": "code",
   "execution_count": 1,
   "id": "5121f6ed",
   "metadata": {},
   "outputs": [
    {
     "ename": "SyntaxError",
     "evalue": "unexpected EOF while parsing (<ipython-input-1-ad3f5a4b247e>, line 15)",
     "output_type": "error",
     "traceback": [
      "\u001b[1;36m  File \u001b[1;32m\"<ipython-input-1-ad3f5a4b247e>\"\u001b[1;36m, line \u001b[1;32m15\u001b[0m\n\u001b[1;33m    #  print(\"Exception in dump : \",(str(ex)))\u001b[0m\n\u001b[1;37m                                              ^\u001b[0m\n\u001b[1;31mSyntaxError\u001b[0m\u001b[1;31m:\u001b[0m unexpected EOF while parsing\n"
     ]
    }
   ],
   "source": [
    "def dump_data():\n",
    "    try:\n",
    "        # Loading or Opening the json file\n",
    "        strData = \"\"\n",
    "        with open(\"C:\\Users\\shubh\\OneDrive\\Desktop\\Clg_work\\Trimester-2\\Mongo\\Mongo_Project\\flask\\temp.json\") as reader:\n",
    "            for i in reader:\n",
    "                strData = i\n",
    "            strData = {strData: strData}\n",
    "           # print(\"Data Type : \", type(strData))\n",
    "        # file_data = json.load(file)\n",
    "\n",
    "        # Inserting the loaded data in the Collection\n",
    "      #  Collection.insert_many([strData])\n",
    "    #except Exception as ex:\n",
    "      #  print(\"Exception in dump : \",(str(ex)))"
   ]
  },
  {
   "cell_type": "code",
   "execution_count": 7,
   "id": "c71a5f18",
   "metadata": {},
   "outputs": [
    {
     "name": "stdout",
     "output_type": "stream",
     "text": [
      "[[\"Brand\",\"Audi\"],[\"Model\",\"80\"],[\"Generation\",\"80 (B2, Typ 81,85)\"],[\"Modification (Engine)\",\"1.6 GLE (110 Hp)\"],[\"Start of production\",\"1979 year\"],[\"End of production\",\"1982 year\"],[\"Powertrain Architecture\",\"Internal Combustion engine\"],[\"Body type\",\"Sedan\"],[\"Seats\",\"5\"],[\"Doors\",\"2-4\"],[\"Fuel consumption (economy) - combined\",\"9.2 l\\/100 km 25.57 US mpg 30.7 UK mpg 10.87 km\\/l\"],[\"Fuel Type\",\"Petrol (Gasoline)\"],[\"Acceleration 0 - 100 km\\/h\",\"10.2 sec\"],[\"Acceleration 0 - 62 mph\",\"10.2 sec\"],[\"Acceleration 0 - 60 mph (Calculated by Auto-Data.net)\",\"9.7 sec\"],[\"Maximum speed\",\"180 km\\/h 111.85 mph\"],[\"Weight-to-power ratio\",\"8.5 kg\\/Hp, 118.3 Hp\\/tonne\"],[\"Weight-to-torque ratio\",\"6.8 kg\\/Nm, 147.3 Nm\\/tonne\"],[\"Power\",\"110 Hp @ 6100 rpm.\"],[\"Power per litre\",\"69.3 Hp\\/l\"],[\"Torque\",\"137 Nm @ 5000 rpm. 101.05 lb.-ft. @ 5000 rpm.\"],[\"Engine Model\\/Code\",\"YZ\"],[\"Engine displacement\",\"1588 cm 3  96.91 cu. in.\"],[\"Number of cylinders\",\"4\"],[\"Position of cylinders\",\"Inline\"],[\"Cylinder Bore\",\"79.5 mm 3.13 in.\"],[\"Piston Stroke\",\"80 mm 3.15 in.\"],[\"Compression ratio\",\"9.5\"],[\"Number of valves per cylinder\",\"2\"],[\"Fuel System\",\"Multi-point indirect injection\"],[\"Engine aspiration\",\"Naturally aspirated engine\"],[\"Engine oil capacity\",\"3.5 l 3.7 US qt | 3.08 UK qt\"],[\"Oil viscosity\",\"Log in to see.\"],[\"Kerb Weight\",\"930 kg 2050.3 lbs.\"],[\"Max. weight\",\"1410 kg 3108.52 lbs.\"],[\"Max load\",\"480 kg 1058.22 lbs.\"],[\"Trunk (boot) space - minimum\",\"500 l 17.66 cu. ft.\"],[\"Fuel tank capacity\",\"68 l 17.96 US gal | 14.96 UK gal\"],[\"Length\",\"4383 mm 172.56 in.\"],[\"Width\",\"1682 mm 66.22 in.\"],[\"Height\",\"1365 mm 53.74 in.\"],[\"Wheelbase\",\"2541 mm 100.04 in.\"],[\"Front track\",\"1400 mm 55.12 in.\"],[\"Rear (Back) track\",\"1420 mm 55.91 in.\"],[\"Drag coefficient (C d )\",\"0.40\"],[\"Minimum turning circle (turning diameter)\",\"10.4 m 34.12 ft.\"],[\"Drivetrain Architecture\",\"The Internal combustion engine (ICE) drives the front wheels of the vehicle.\"],[\"Drive wheel\",\"Front wheel drive\"],[\"Number of Gears (manual transmission)\",\"4\"],[\"Steering type\",\"Steering rack and pinion\"],[\"Tires size\",\"175\\/70 R13\"],[\"Wheel rims size\",\"13\"]]\n"
     ]
    }
   ],
   "source": [
    "strData = \"\"\n",
    "with open(\"C:/Users/shubh/OneDrive/Desktop/Clg_work/Trimester-2/Mongo/Mongo_Project/flask/temp.json\") as reader:\n",
    "    for i in reader:\n",
    "       # strData = i\n",
    "        print(i)\n",
    "        break\n",
    "    #strData = {strData: strData}"
   ]
  },
  {
   "cell_type": "code",
   "execution_count": 53,
   "id": "da4f6f8b",
   "metadata": {},
   "outputs": [
    {
     "name": "stdout",
     "output_type": "stream",
     "text": [
      "Requirement already satisfied: beautifulsoup4 in c:\\users\\shubh\\anaconda3\\lib\\site-packages (4.4.1)\n",
      "Collecting beautifulsoup4\n",
      "  Downloading beautifulsoup4-4.10.0-py3-none-any.whl (97 kB)\n",
      "Requirement already satisfied: soupsieve>1.2 in c:\\users\\shubh\\anaconda3\\lib\\site-packages (from beautifulsoup4) (2.2.1)\n",
      "Installing collected packages: beautifulsoup4\n",
      "  Attempting uninstall: beautifulsoup4\n",
      "    Found existing installation: beautifulsoup4 4.4.1"
     ]
    },
    {
     "name": "stderr",
     "output_type": "stream",
     "text": [
      "ERROR: pip's dependency resolver does not currently take into account all the packages that are installed. This behaviour is the source of the following dependency conflicts.\n",
      "html-table-parser 0.1.0 requires beautifulsoup4==4.4.1, but you have beautifulsoup4 4.10.0 which is incompatible.\n"
     ]
    },
    {
     "name": "stdout",
     "output_type": "stream",
     "text": [
      "\n",
      "    Uninstalling beautifulsoup4-4.4.1:\n",
      "      Successfully uninstalled beautifulsoup4-4.4.1\n",
      "Successfully installed beautifulsoup4-4.10.0\n"
     ]
    }
   ],
   "source": [
    "!pip install --upgrade beautifulsoup4\n"
   ]
  },
  {
   "cell_type": "code",
   "execution_count": 55,
   "id": "5ce3d2e3",
   "metadata": {},
   "outputs": [
    {
     "name": "stdout",
     "output_type": "stream",
     "text": [
      "Requirement already satisfied: html5lib in c:\\users\\shubh\\anaconda3\\lib\\site-packages (1.1)\n",
      "Requirement already satisfied: six>=1.9 in c:\\users\\shubh\\anaconda3\\lib\\site-packages (from html5lib) (1.15.0)\n",
      "Requirement already satisfied: webencodings in c:\\users\\shubh\\anaconda3\\lib\\site-packages (from html5lib) (0.5.1)\n"
     ]
    }
   ],
   "source": [
    "!pip install --upgrade html5lib"
   ]
  },
  {
   "cell_type": "code",
   "execution_count": 143,
   "id": "57bb9320",
   "metadata": {},
   "outputs": [],
   "source": [
    "from flask import Flask, request\n",
    "\n",
    "import pandas as pd"
   ]
  },
  {
   "cell_type": "code",
   "execution_count": 144,
   "id": "17b05217",
   "metadata": {},
   "outputs": [],
   "source": [
    "url = \"https://www.auto-data.net/en/audi-100-avant-4a-c4-2.8-e-174hp-automatic-26292\"\n",
    "dfs = pd.read_html(url)"
   ]
  },
  {
   "cell_type": "code",
   "execution_count": 145,
   "id": "b6d33623",
   "metadata": {},
   "outputs": [
    {
     "data": {
      "text/html": [
       "<div>\n",
       "<style scoped>\n",
       "    .dataframe tbody tr th:only-of-type {\n",
       "        vertical-align: middle;\n",
       "    }\n",
       "\n",
       "    .dataframe tbody tr th {\n",
       "        vertical-align: top;\n",
       "    }\n",
       "\n",
       "    .dataframe thead th {\n",
       "        text-align: right;\n",
       "    }\n",
       "</style>\n",
       "<table border=\"1\" class=\"dataframe\">\n",
       "  <thead>\n",
       "    <tr style=\"text-align: right;\">\n",
       "      <th></th>\n",
       "      <th>General information</th>\n",
       "      <th>General information.1</th>\n",
       "    </tr>\n",
       "  </thead>\n",
       "  <tbody>\n",
       "    <tr>\n",
       "      <th>0</th>\n",
       "      <td>Brand</td>\n",
       "      <td>Audi</td>\n",
       "    </tr>\n",
       "    <tr>\n",
       "      <th>1</th>\n",
       "      <td>Model</td>\n",
       "      <td>100</td>\n",
       "    </tr>\n",
       "    <tr>\n",
       "      <th>2</th>\n",
       "      <td>Generation</td>\n",
       "      <td>100 Avant (4A,C4)</td>\n",
       "    </tr>\n",
       "    <tr>\n",
       "      <th>3</th>\n",
       "      <td>Modification (Engine)</td>\n",
       "      <td>2.8 E (174 Hp) Automatic</td>\n",
       "    </tr>\n",
       "    <tr>\n",
       "      <th>4</th>\n",
       "      <td>Start of production</td>\n",
       "      <td>1991 year</td>\n",
       "    </tr>\n",
       "  </tbody>\n",
       "</table>\n",
       "</div>"
      ],
      "text/plain": [
       "     General information     General information.1\n",
       "0                  Brand                      Audi\n",
       "1                  Model                       100\n",
       "2             Generation         100 Avant (4A,C4)\n",
       "3  Modification (Engine)  2.8 E (174 Hp) Automatic\n",
       "4    Start of production                 1991 year"
      ]
     },
     "execution_count": 145,
     "metadata": {},
     "output_type": "execute_result"
    }
   ],
   "source": [
    "df = dfs[1]\n",
    "df.head()"
   ]
  },
  {
   "cell_type": "code",
   "execution_count": null,
   "id": "acbc8688",
   "metadata": {},
   "outputs": [],
   "source": [
    "df."
   ]
  },
  {
   "cell_type": "code",
   "execution_count": 146,
   "id": "0bce61b2",
   "metadata": {},
   "outputs": [
    {
     "data": {
      "text/plain": [
       "(71, 2)"
      ]
     },
     "execution_count": 146,
     "metadata": {},
     "output_type": "execute_result"
    }
   ],
   "source": [
    "df.shape"
   ]
  },
  {
   "cell_type": "code",
   "execution_count": 147,
   "id": "39a938ff",
   "metadata": {},
   "outputs": [
    {
     "data": {
      "text/html": [
       "<div>\n",
       "<style scoped>\n",
       "    .dataframe tbody tr th:only-of-type {\n",
       "        vertical-align: middle;\n",
       "    }\n",
       "\n",
       "    .dataframe tbody tr th {\n",
       "        vertical-align: top;\n",
       "    }\n",
       "\n",
       "    .dataframe thead th {\n",
       "        text-align: right;\n",
       "    }\n",
       "</style>\n",
       "<table border=\"1\" class=\"dataframe\">\n",
       "  <thead>\n",
       "    <tr style=\"text-align: right;\">\n",
       "      <th></th>\n",
       "      <th>General information</th>\n",
       "      <th>General information.1</th>\n",
       "    </tr>\n",
       "  </thead>\n",
       "  <tbody>\n",
       "    <tr>\n",
       "      <th>66</th>\n",
       "      <td>Steering type</td>\n",
       "      <td>Steering rack and pinion</td>\n",
       "    </tr>\n",
       "    <tr>\n",
       "      <th>67</th>\n",
       "      <td>Power steering</td>\n",
       "      <td>Hydraulic Steering</td>\n",
       "    </tr>\n",
       "    <tr>\n",
       "      <th>68</th>\n",
       "      <td>Tires size</td>\n",
       "      <td>195/65 R15</td>\n",
       "    </tr>\n",
       "    <tr>\n",
       "      <th>69</th>\n",
       "      <td>Wheel rims size</td>\n",
       "      <td>15</td>\n",
       "    </tr>\n",
       "    <tr>\n",
       "      <th>70</th>\n",
       "      <td>(adsbygoogle = window.adsbygoogle || []).push(...</td>\n",
       "      <td>(adsbygoogle = window.adsbygoogle || []).push(...</td>\n",
       "    </tr>\n",
       "  </tbody>\n",
       "</table>\n",
       "</div>"
      ],
      "text/plain": [
       "                                  General information  \\\n",
       "66                                      Steering type   \n",
       "67                                     Power steering   \n",
       "68                                         Tires size   \n",
       "69                                    Wheel rims size   \n",
       "70  (adsbygoogle = window.adsbygoogle || []).push(...   \n",
       "\n",
       "                                General information.1  \n",
       "66                           Steering rack and pinion  \n",
       "67                                 Hydraulic Steering  \n",
       "68                                         195/65 R15  \n",
       "69                                                 15  \n",
       "70  (adsbygoogle = window.adsbygoogle || []).push(...  "
      ]
     },
     "execution_count": 147,
     "metadata": {},
     "output_type": "execute_result"
    }
   ],
   "source": [
    "df.tail()"
   ]
  },
  {
   "cell_type": "code",
   "execution_count": 148,
   "id": "ff97357b",
   "metadata": {},
   "outputs": [
    {
     "data": {
      "text/html": [
       "<div>\n",
       "<style scoped>\n",
       "    .dataframe tbody tr th:only-of-type {\n",
       "        vertical-align: middle;\n",
       "    }\n",
       "\n",
       "    .dataframe tbody tr th {\n",
       "        vertical-align: top;\n",
       "    }\n",
       "\n",
       "    .dataframe thead th {\n",
       "        text-align: right;\n",
       "    }\n",
       "</style>\n",
       "<table border=\"1\" class=\"dataframe\">\n",
       "  <thead>\n",
       "    <tr style=\"text-align: right;\">\n",
       "      <th></th>\n",
       "      <th>General information</th>\n",
       "      <th>General information.1</th>\n",
       "    </tr>\n",
       "  </thead>\n",
       "  <tbody>\n",
       "    <tr>\n",
       "      <th>0</th>\n",
       "      <td>Brand</td>\n",
       "      <td>Audi</td>\n",
       "    </tr>\n",
       "    <tr>\n",
       "      <th>1</th>\n",
       "      <td>Model</td>\n",
       "      <td>100</td>\n",
       "    </tr>\n",
       "    <tr>\n",
       "      <th>2</th>\n",
       "      <td>Generation</td>\n",
       "      <td>100 Avant (4A,C4)</td>\n",
       "    </tr>\n",
       "    <tr>\n",
       "      <th>3</th>\n",
       "      <td>Modification (Engine)</td>\n",
       "      <td>2.8 E (174 Hp) Automatic</td>\n",
       "    </tr>\n",
       "    <tr>\n",
       "      <th>4</th>\n",
       "      <td>Start of production</td>\n",
       "      <td>1991 year</td>\n",
       "    </tr>\n",
       "    <tr>\n",
       "      <th>...</th>\n",
       "      <td>...</td>\n",
       "      <td>...</td>\n",
       "    </tr>\n",
       "    <tr>\n",
       "      <th>65</th>\n",
       "      <td>Assisting systems</td>\n",
       "      <td>ABS (Anti-lock braking system)</td>\n",
       "    </tr>\n",
       "    <tr>\n",
       "      <th>66</th>\n",
       "      <td>Steering type</td>\n",
       "      <td>Steering rack and pinion</td>\n",
       "    </tr>\n",
       "    <tr>\n",
       "      <th>67</th>\n",
       "      <td>Power steering</td>\n",
       "      <td>Hydraulic Steering</td>\n",
       "    </tr>\n",
       "    <tr>\n",
       "      <th>68</th>\n",
       "      <td>Tires size</td>\n",
       "      <td>195/65 R15</td>\n",
       "    </tr>\n",
       "    <tr>\n",
       "      <th>69</th>\n",
       "      <td>Wheel rims size</td>\n",
       "      <td>15</td>\n",
       "    </tr>\n",
       "  </tbody>\n",
       "</table>\n",
       "<p>70 rows × 2 columns</p>\n",
       "</div>"
      ],
      "text/plain": [
       "      General information           General information.1\n",
       "0                   Brand                            Audi\n",
       "1                   Model                             100\n",
       "2              Generation               100 Avant (4A,C4)\n",
       "3   Modification (Engine)        2.8 E (174 Hp) Automatic\n",
       "4     Start of production                       1991 year\n",
       "..                    ...                             ...\n",
       "65      Assisting systems  ABS (Anti-lock braking system)\n",
       "66          Steering type        Steering rack and pinion\n",
       "67         Power steering              Hydraulic Steering\n",
       "68             Tires size                      195/65 R15\n",
       "69        Wheel rims size                              15\n",
       "\n",
       "[70 rows x 2 columns]"
      ]
     },
     "execution_count": 148,
     "metadata": {},
     "output_type": "execute_result"
    }
   ],
   "source": [
    "new_df = df.drop_duplicates()\n",
    "new_df"
   ]
  },
  {
   "cell_type": "code",
   "execution_count": 138,
   "id": "a1f581dc",
   "metadata": {},
   "outputs": [
    {
     "data": {
      "text/plain": [
       "General information      0\n",
       "General information.1    0\n",
       "dtype: int64"
      ]
     },
     "execution_count": 138,
     "metadata": {},
     "output_type": "execute_result"
    }
   ],
   "source": [
    "new_df.isnull().sum()"
   ]
  },
  {
   "cell_type": "code",
   "execution_count": 141,
   "id": "6fb36e44",
   "metadata": {},
   "outputs": [],
   "source": [
    "# storing the data in JSON format\n",
    "new_df.to_json('file.json', orient = 'values', compression = 'infer', index = 'true')"
   ]
  },
  {
   "cell_type": "code",
   "execution_count": 142,
   "id": "3174c79d",
   "metadata": {},
   "outputs": [
    {
     "name": "stdout",
     "output_type": "stream",
     "text": [
      "      General information           General information.1\n",
      "0                   Brand                            Audi\n",
      "1                   Model                             100\n",
      "2              Generation               100 Avant (4A,C4)\n",
      "3   Modification (Engine)        2.8 E (174 Hp) Automatic\n",
      "4     Start of production                       1991 year\n",
      "..                    ...                             ...\n",
      "65      Assisting systems  ABS (Anti-lock braking system)\n",
      "66          Steering type        Steering rack and pinion\n",
      "67         Power steering              Hydraulic Steering\n",
      "68             Tires size                      195/65 R15\n",
      "69        Wheel rims size                              15\n",
      "\n",
      "[70 rows x 2 columns]\n"
     ]
    }
   ],
   "source": [
    "# reading the JSON file\n",
    "new_df = pd.read_json('file.json', orient ='values', compression = 'infer')\n",
    " \n",
    "# displaying the DataFrame\n",
    "print(new_df)"
   ]
  },
  {
   "cell_type": "code",
   "execution_count": 126,
   "id": "7f2cdfd0",
   "metadata": {},
   "outputs": [],
   "source": []
  },
  {
   "cell_type": "code",
   "execution_count": 116,
   "id": "8b4675c6",
   "metadata": {},
   "outputs": [
    {
     "data": {
      "text/plain": [
       "0"
      ]
     },
     "execution_count": 116,
     "metadata": {},
     "output_type": "execute_result"
    }
   ],
   "source": [
    "newdf1.isnull().sum().sum()"
   ]
  },
  {
   "cell_type": "code",
   "execution_count": 45,
   "id": "2e9594df",
   "metadata": {},
   "outputs": [],
   "source": [
    "app = Flask(__name__)\n",
    "\n",
    "@app.route(\"/generate_json\")\n",
    "\n",
    "def generate_json():\n",
    "    url = \"https://www.auto-data.net/en/audi-100-avant-4a-c4-2.8-e-174hp-automatic-26292\"\n",
    "    url = request.args.get(\"url\")\n",
    "    # defining the html contents of a URL.\n",
    "    xhtml = get_data(url).decode(\"utf-8\")\n",
    "    # Defining the HTMLTableParser object\n",
    "    #parser = HTMLTableParser()\n",
    "    \n",
    "\n",
    "    # Storing the returned html data in the HTMLTableParser object.\n",
    "    #parser.feed(xhtml)\n",
    "\n",
    "    # Converting the parsed data to PandasDataFrame.\n",
    "    pd.set_option(\"display.max_rows\", len(parser.tables[1]))\n",
    "    print(\"\\n\\nPANDAS DATAFRAME\\n\")\n",
    "    \n",
    "    print(pd.DataFrame(parser.tables[1]))\n",
    "    #df = pd.DataFrame(parser.tables[1])\n"
   ]
  },
  {
   "cell_type": "code",
   "execution_count": 150,
   "id": "3258cd79",
   "metadata": {},
   "outputs": [],
   "source": [
    "new_df.to_csv('file1.csv', header=False, index=False)"
   ]
  },
  {
   "cell_type": "code",
   "execution_count": null,
   "id": "9f13a9f9",
   "metadata": {},
   "outputs": [],
   "source": [
    "new_df.to_json('file.json', orient = 'values', compression = 'infer', index = 'true')"
   ]
  }
 ],
 "metadata": {
  "kernelspec": {
   "display_name": "Python 3",
   "language": "python",
   "name": "python3"
  },
  "language_info": {
   "codemirror_mode": {
    "name": "ipython",
    "version": 3
   },
   "file_extension": ".py",
   "mimetype": "text/x-python",
   "name": "python",
   "nbconvert_exporter": "python",
   "pygments_lexer": "ipython3",
   "version": "3.8.8"
  }
 },
 "nbformat": 4,
 "nbformat_minor": 5
}
