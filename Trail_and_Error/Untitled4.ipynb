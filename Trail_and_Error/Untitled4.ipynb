{
 "cells": [
  {
   "cell_type": "code",
   "execution_count": 19,
   "id": "d27fdde0",
   "metadata": {},
   "outputs": [],
   "source": [
    "import pymongo\n",
    "from pymongo import MongoClient\n",
    "import pandas as pd\n",
    "import json"
   ]
  },
  {
   "cell_type": "code",
   "execution_count": 3,
   "id": "a1dc5642",
   "metadata": {},
   "outputs": [],
   "source": [
    "#def mongoimport(csv_path, db_name, coll_name, db_url='localhost', db_port=27000):\n",
    "    \"\"\" Imports a csv file at path csv_name to a mongo colection\n",
    "    returns: count of the documants in the new collection\n",
    "    \"\"\"\n",
    "    client = MongoClient(db_url, db_port)\n",
    "    db = client[db_name]\n",
    "    coll = db[coll_name]\n",
    "    data = pd.read_csv(csv_path)\n",
    "    payload = json.loads(data.to_json(orient='records'))\n",
    "    coll.remove()\n",
    "    coll.insert(payload)\n",
    "    return coll.count()"
   ]
  },
  {
   "cell_type": "code",
   "execution_count": 22,
   "id": "4032db78",
   "metadata": {},
   "outputs": [
    {
     "data": {
      "text/plain": [
       "<pymongo.results.InsertManyResult at 0x28c677fab40>"
      ]
     },
     "execution_count": 22,
     "metadata": {},
     "output_type": "execute_result"
    }
   ],
   "source": [
    "\n",
    "client = MongoClient('localhost', 27017)\n",
    "db = client['car_data']\n",
    "coll = db['car_d']\n",
    "data = pd.read_csv(\"file2.csv\")\n",
    "payload = json.loads(data.to_json(orient='records'))\n",
    "coll.drop()\n",
    "coll.insert_many(payload)\n",
    "#return coll.count()"
   ]
  },
  {
   "cell_type": "code",
   "execution_count": null,
   "id": "8e645704",
   "metadata": {},
   "outputs": [],
   "source": []
  }
 ],
 "metadata": {
  "kernelspec": {
   "display_name": "Python 3",
   "language": "python",
   "name": "python3"
  },
  "language_info": {
   "codemirror_mode": {
    "name": "ipython",
    "version": 3
   },
   "file_extension": ".py",
   "mimetype": "text/x-python",
   "name": "python",
   "nbconvert_exporter": "python",
   "pygments_lexer": "ipython3",
   "version": "3.8.8"
  }
 },
 "nbformat": 4,
 "nbformat_minor": 5
}
