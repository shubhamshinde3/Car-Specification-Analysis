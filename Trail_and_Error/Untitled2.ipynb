{
 "cells": [
  {
   "cell_type": "code",
   "execution_count": 43,
   "id": "e30b4817",
   "metadata": {},
   "outputs": [],
   "source": [
    "from flask import Flask, request\n",
    "\n",
    "import pandas as pd"
   ]
  },
  {
   "cell_type": "code",
   "execution_count": 44,
   "id": "15709fc1",
   "metadata": {},
   "outputs": [],
   "source": [
    "url = \"https://www.auto-data.net/en/audi-100-avant-4a-c4-2.8-e-174hp-automatic-26292\"\n",
    "dfs1 = pd.read_html(url , attrs={\"class\" : \"cardetailsout car2\"})"
   ]
  },
  {
   "cell_type": "code",
   "execution_count": 45,
   "id": "133b1c41",
   "metadata": {},
   "outputs": [
    {
     "data": {
      "text/plain": [
       "list"
      ]
     },
     "execution_count": 45,
     "metadata": {},
     "output_type": "execute_result"
    }
   ],
   "source": [
    "type(dfs1)"
   ]
  },
  {
   "cell_type": "code",
   "execution_count": 39,
   "id": "b6d7c52a",
   "metadata": {},
   "outputs": [
    {
     "name": "stdout",
     "output_type": "stream",
     "text": [
      "[                                  General information  \\\n",
      "0                                               Brand   \n",
      "1                                               Model   \n",
      "2                                          Generation   \n",
      "3                               Modification (Engine)   \n",
      "4                                 Start of production   \n",
      "..                                                ...   \n",
      "66                                      Steering type   \n",
      "67                                     Power steering   \n",
      "68                                         Tires size   \n",
      "69                                    Wheel rims size   \n",
      "70  (adsbygoogle = window.adsbygoogle || []).push(...   \n",
      "\n",
      "                                General information.1  \n",
      "0                                                Audi  \n",
      "1                                                 100  \n",
      "2                                   100 Avant (4A,C4)  \n",
      "3                            2.8 E (174 Hp) Automatic  \n",
      "4                                           1991 year  \n",
      "..                                                ...  \n",
      "66                           Steering rack and pinion  \n",
      "67                                 Hydraulic Steering  \n",
      "68                                         195/65 R15  \n",
      "69                                                 15  \n",
      "70  (adsbygoogle = window.adsbygoogle || []).push(...  \n",
      "\n",
      "[71 rows x 2 columns]]\n"
     ]
    }
   ],
   "source": [
    "print(dfs1)"
   ]
  },
  {
   "cell_type": "code",
   "execution_count": 37,
   "id": "fac13157",
   "metadata": {},
   "outputs": [
    {
     "ename": "ValueError",
     "evalue": "The truth value of a DataFrame is ambiguous. Use a.empty, a.bool(), a.item(), a.any() or a.all().",
     "output_type": "error",
     "traceback": [
      "\u001b[1;31m---------------------------------------------------------------------------\u001b[0m",
      "\u001b[1;31mValueError\u001b[0m                                Traceback (most recent call last)",
      "\u001b[1;32m<ipython-input-37-a0c8eb4af576>\u001b[0m in \u001b[0;36m<module>\u001b[1;34m\u001b[0m\n\u001b[1;32m----> 1\u001b[1;33m \u001b[0mdfs1\u001b[0m\u001b[1;33m.\u001b[0m\u001b[0mremove\u001b[0m\u001b[1;33m(\u001b[0m\u001b[1;34m\"(adsbygoogle = window.adsbygoogle || []).push({});\"\u001b[0m\u001b[1;33m)\u001b[0m\u001b[1;33m\u001b[0m\u001b[1;33m\u001b[0m\u001b[0m\n\u001b[0m",
      "\u001b[1;32m~\\anaconda3\\lib\\site-packages\\pandas\\core\\generic.py\u001b[0m in \u001b[0;36m__nonzero__\u001b[1;34m(self)\u001b[0m\n\u001b[0;32m   1440\u001b[0m     \u001b[1;33m@\u001b[0m\u001b[0mfinal\u001b[0m\u001b[1;33m\u001b[0m\u001b[1;33m\u001b[0m\u001b[0m\n\u001b[0;32m   1441\u001b[0m     \u001b[1;32mdef\u001b[0m \u001b[0m__nonzero__\u001b[0m\u001b[1;33m(\u001b[0m\u001b[0mself\u001b[0m\u001b[1;33m)\u001b[0m\u001b[1;33m:\u001b[0m\u001b[1;33m\u001b[0m\u001b[1;33m\u001b[0m\u001b[0m\n\u001b[1;32m-> 1442\u001b[1;33m         raise ValueError(\n\u001b[0m\u001b[0;32m   1443\u001b[0m             \u001b[1;34mf\"The truth value of a {type(self).__name__} is ambiguous. \"\u001b[0m\u001b[1;33m\u001b[0m\u001b[1;33m\u001b[0m\u001b[0m\n\u001b[0;32m   1444\u001b[0m             \u001b[1;34m\"Use a.empty, a.bool(), a.item(), a.any() or a.all().\"\u001b[0m\u001b[1;33m\u001b[0m\u001b[1;33m\u001b[0m\u001b[0m\n",
      "\u001b[1;31mValueError\u001b[0m: The truth value of a DataFrame is ambiguous. Use a.empty, a.bool(), a.item(), a.any() or a.all()."
     ]
    }
   ],
   "source": [
    "dfs1.remove(\"(adsbygoogle = window.adsbygoogle || []).push({});\")"
   ]
  },
  {
   "cell_type": "code",
   "execution_count": 25,
   "id": "75bf2d32",
   "metadata": {},
   "outputs": [],
   "source": [
    "newdf1 = dfs1[0].rename({\"General information\" : \"Header\", \"General information.1\":\"values\"}, axis =1).T"
   ]
  },
  {
   "cell_type": "code",
   "execution_count": 26,
   "id": "8d8eac27",
   "metadata": {},
   "outputs": [
    {
     "data": {
      "text/html": [
       "<div>\n",
       "<style scoped>\n",
       "    .dataframe tbody tr th:only-of-type {\n",
       "        vertical-align: middle;\n",
       "    }\n",
       "\n",
       "    .dataframe tbody tr th {\n",
       "        vertical-align: top;\n",
       "    }\n",
       "\n",
       "    .dataframe thead th {\n",
       "        text-align: right;\n",
       "    }\n",
       "</style>\n",
       "<table border=\"1\" class=\"dataframe\">\n",
       "  <thead>\n",
       "    <tr style=\"text-align: right;\">\n",
       "      <th></th>\n",
       "      <th>0</th>\n",
       "      <th>1</th>\n",
       "      <th>2</th>\n",
       "      <th>3</th>\n",
       "      <th>4</th>\n",
       "      <th>5</th>\n",
       "      <th>6</th>\n",
       "      <th>7</th>\n",
       "      <th>8</th>\n",
       "      <th>9</th>\n",
       "      <th>...</th>\n",
       "      <th>61</th>\n",
       "      <th>62</th>\n",
       "      <th>63</th>\n",
       "      <th>64</th>\n",
       "      <th>65</th>\n",
       "      <th>66</th>\n",
       "      <th>67</th>\n",
       "      <th>68</th>\n",
       "      <th>69</th>\n",
       "      <th>70</th>\n",
       "    </tr>\n",
       "  </thead>\n",
       "  <tbody>\n",
       "    <tr>\n",
       "      <th>Header</th>\n",
       "      <td>Brand</td>\n",
       "      <td>Model</td>\n",
       "      <td>Generation</td>\n",
       "      <td>Modification (Engine)</td>\n",
       "      <td>Start of production</td>\n",
       "      <td>End of production</td>\n",
       "      <td>Powertrain Architecture</td>\n",
       "      <td>Body type</td>\n",
       "      <td>Seats</td>\n",
       "      <td>Doors</td>\n",
       "      <td>...</td>\n",
       "      <td>Front suspension</td>\n",
       "      <td>Rear suspension</td>\n",
       "      <td>Front brakes</td>\n",
       "      <td>Rear brakes</td>\n",
       "      <td>Assisting systems</td>\n",
       "      <td>Steering type</td>\n",
       "      <td>Power steering</td>\n",
       "      <td>Tires size</td>\n",
       "      <td>Wheel rims size</td>\n",
       "      <td>(adsbygoogle = window.adsbygoogle || []).push(...</td>\n",
       "    </tr>\n",
       "    <tr>\n",
       "      <th>values</th>\n",
       "      <td>Audi</td>\n",
       "      <td>100</td>\n",
       "      <td>100 Avant (4A,C4)</td>\n",
       "      <td>2.8 E (174 Hp) Automatic</td>\n",
       "      <td>1991 year</td>\n",
       "      <td>1994 year</td>\n",
       "      <td>Internal Combustion engine</td>\n",
       "      <td>Station wagon (estate)</td>\n",
       "      <td>5</td>\n",
       "      <td>5</td>\n",
       "      <td>...</td>\n",
       "      <td>Spring Strut</td>\n",
       "      <td>Helical spring</td>\n",
       "      <td>Ventilated discs</td>\n",
       "      <td>Disc</td>\n",
       "      <td>ABS (Anti-lock braking system)</td>\n",
       "      <td>Steering rack and pinion</td>\n",
       "      <td>Hydraulic Steering</td>\n",
       "      <td>195/65 R15</td>\n",
       "      <td>15</td>\n",
       "      <td>(adsbygoogle = window.adsbygoogle || []).push(...</td>\n",
       "    </tr>\n",
       "  </tbody>\n",
       "</table>\n",
       "<p>2 rows × 71 columns</p>\n",
       "</div>"
      ],
      "text/plain": [
       "           0      1                  2                         3   \\\n",
       "Header  Brand  Model         Generation     Modification (Engine)   \n",
       "values   Audi    100  100 Avant (4A,C4)  2.8 E (174 Hp) Automatic   \n",
       "\n",
       "                         4                  5                           6   \\\n",
       "Header  Start of production  End of production     Powertrain Architecture   \n",
       "values            1991 year          1994 year  Internal Combustion engine   \n",
       "\n",
       "                            7      8      9   ...                61  \\\n",
       "Header               Body type  Seats  Doors  ...  Front suspension   \n",
       "values  Station wagon (estate)      5      5  ...      Spring Strut   \n",
       "\n",
       "                     62                63           64  \\\n",
       "Header  Rear suspension      Front brakes  Rear brakes   \n",
       "values   Helical spring  Ventilated discs         Disc   \n",
       "\n",
       "                                    65                        66  \\\n",
       "Header               Assisting systems             Steering type   \n",
       "values  ABS (Anti-lock braking system)  Steering rack and pinion   \n",
       "\n",
       "                        67          68               69  \\\n",
       "Header      Power steering  Tires size  Wheel rims size   \n",
       "values  Hydraulic Steering  195/65 R15               15   \n",
       "\n",
       "                                                       70  \n",
       "Header  (adsbygoogle = window.adsbygoogle || []).push(...  \n",
       "values  (adsbygoogle = window.adsbygoogle || []).push(...  \n",
       "\n",
       "[2 rows x 71 columns]"
      ]
     },
     "execution_count": 26,
     "metadata": {},
     "output_type": "execute_result"
    }
   ],
   "source": [
    "newdf1"
   ]
  },
  {
   "cell_type": "code",
   "execution_count": 60,
   "id": "a058fa2d",
   "metadata": {},
   "outputs": [
    {
     "ename": "SyntaxError",
     "evalue": "invalid syntax (<ipython-input-60-c00651d785b7>, line 1)",
     "output_type": "error",
     "traceback": [
      "\u001b[1;36m  File \u001b[1;32m\"<ipython-input-60-c00651d785b7>\"\u001b[1;36m, line \u001b[1;32m1\u001b[0m\n\u001b[1;33m    newdf1.columns =[(columns=\"Header\")]\u001b[0m\n\u001b[1;37m                             ^\u001b[0m\n\u001b[1;31mSyntaxError\u001b[0m\u001b[1;31m:\u001b[0m invalid syntax\n"
     ]
    }
   ],
   "source": [
    "newdf1.columns =[(columns=\"Header\")]"
   ]
  },
  {
   "cell_type": "code",
   "execution_count": 49,
   "id": "0ab580df",
   "metadata": {},
   "outputs": [
    {
     "data": {
      "text/plain": [
       "RangeIndex(start=0, stop=71, step=1)"
      ]
     },
     "execution_count": 49,
     "metadata": {},
     "output_type": "execute_result"
    }
   ],
   "source": [
    "newdf1.columns"
   ]
  },
  {
   "cell_type": "code",
   "execution_count": 5,
   "id": "b3a5fbf2",
   "metadata": {},
   "outputs": [
    {
     "data": {
      "text/plain": [
       "(2, 71)"
      ]
     },
     "execution_count": 5,
     "metadata": {},
     "output_type": "execute_result"
    }
   ],
   "source": [
    "newdf1.shape"
   ]
  },
  {
   "cell_type": "code",
   "execution_count": 52,
   "id": "c3bb52a2",
   "metadata": {},
   "outputs": [],
   "source": [
    "newdf1.columns = [\"Brand Model\", \"Generation\" ,\"Modification (Engine)\",\"Start of production\",\"End of production\",\"Powertrain Architecture\",\"Body type\",\"Seats\",\"Doors\", \"Performance specs\",\"Fuel consumption (economy) - urban\",\"Fuel consumption (economy) - extra urban\",\"Fuel consumption (economy) - combined\",\"Fuel Type\",\"Acceleration 0 - 100 km/h\",\"Acceleration 0 - 62 mph\",\"Acceleration 0 - 60 mph (Calculated by Auto-Data.net)\",\"Maximum speed\",\"Weight-to-power ratio\",\"Weight-to-torque ratio\",\"Engine specs\",\"Power\",\"Power per litre\",\"Torque\",\"Engine location\",\"Engine Model/Code\",\"Engine displacement\",\"Number of cylinders\",\"Position of cylinders\",\"Cylinder Bore\",\"Piston Stroke\",\"Compression ratio\",\"Number of valves per cylinder\",\"Fuel System\",\"Engine aspiration\",\"Valvetrain\",\"Engine oil capacity\",\"Oil viscosity\",\"Engine oil specification\",\"Coolant\",\"(adsbygoogle = window.adsbygoogle || []).push({});\",\"Space\", \"Volume and weights\",\"Kerb Weight\",\"Max. weight\",\"Max load\",\"Trunk (boot) space - minimum\",\"Trunk (boot) space - maximum\",\"Fuel tank capacity\",\"Dimensions\",\"Length\",\"Width\",\"Height\",\"Wheelbase\",\"Front track\",\"Rear (Back) track\",\"Drag coefficient (Cd)\",\"Drivetrain\", \"brakes and suspension specs\",\"Drivetrain Architecture\",\"Drive wheel\",\"Number of Gears (automatic transmission)\",\"Front suspension\",\"Rear suspension\",\"Front brakes\",\"Rear brakes\",\"Assisting systems\",\"Steering type\",\"Power steering\",\"Tires size,Wheel rims size\",\"(adsbygoogle = window.adsbygoogle || []).push({})\"]"
   ]
  },
  {
   "cell_type": "code",
   "execution_count": null,
   "id": "b37bb6bc",
   "metadata": {},
   "outputs": [],
   "source": []
  },
  {
   "cell_type": "code",
   "execution_count": 53,
   "id": "35d543d1",
   "metadata": {
    "scrolled": true
   },
   "outputs": [
    {
     "data": {
      "text/html": [
       "<div>\n",
       "<style scoped>\n",
       "    .dataframe tbody tr th:only-of-type {\n",
       "        vertical-align: middle;\n",
       "    }\n",
       "\n",
       "    .dataframe tbody tr th {\n",
       "        vertical-align: top;\n",
       "    }\n",
       "\n",
       "    .dataframe thead th {\n",
       "        text-align: right;\n",
       "    }\n",
       "</style>\n",
       "<table border=\"1\" class=\"dataframe\">\n",
       "  <thead>\n",
       "    <tr style=\"text-align: right;\">\n",
       "      <th></th>\n",
       "      <th>Brand Model</th>\n",
       "      <th>Generation</th>\n",
       "      <th>Modification (Engine)</th>\n",
       "      <th>Start of production</th>\n",
       "      <th>End of production</th>\n",
       "      <th>Powertrain Architecture</th>\n",
       "      <th>Body type</th>\n",
       "      <th>Seats</th>\n",
       "      <th>Doors</th>\n",
       "      <th>Performance specs</th>\n",
       "      <th>...</th>\n",
       "      <th>Number of Gears (automatic transmission)</th>\n",
       "      <th>Front suspension</th>\n",
       "      <th>Rear suspension</th>\n",
       "      <th>Front brakes</th>\n",
       "      <th>Rear brakes</th>\n",
       "      <th>Assisting systems</th>\n",
       "      <th>Steering type</th>\n",
       "      <th>Power steering</th>\n",
       "      <th>Tires size,Wheel rims size</th>\n",
       "      <th>(adsbygoogle = window.adsbygoogle || []).push({})</th>\n",
       "    </tr>\n",
       "  </thead>\n",
       "  <tbody>\n",
       "    <tr>\n",
       "      <th>Header</th>\n",
       "      <td>Brand</td>\n",
       "      <td>Model</td>\n",
       "      <td>Generation</td>\n",
       "      <td>Modification (Engine)</td>\n",
       "      <td>Start of production</td>\n",
       "      <td>End of production</td>\n",
       "      <td>Powertrain Architecture</td>\n",
       "      <td>Body type</td>\n",
       "      <td>Seats</td>\n",
       "      <td>Doors</td>\n",
       "      <td>...</td>\n",
       "      <td>Front suspension</td>\n",
       "      <td>Rear suspension</td>\n",
       "      <td>Front brakes</td>\n",
       "      <td>Rear brakes</td>\n",
       "      <td>Assisting systems</td>\n",
       "      <td>Steering type</td>\n",
       "      <td>Power steering</td>\n",
       "      <td>Tires size</td>\n",
       "      <td>Wheel rims size</td>\n",
       "      <td>(adsbygoogle = window.adsbygoogle || []).push(...</td>\n",
       "    </tr>\n",
       "    <tr>\n",
       "      <th>values</th>\n",
       "      <td>Audi</td>\n",
       "      <td>100</td>\n",
       "      <td>100 Avant (4A,C4)</td>\n",
       "      <td>2.8 E (174 Hp) Automatic</td>\n",
       "      <td>1991 year</td>\n",
       "      <td>1994 year</td>\n",
       "      <td>Internal Combustion engine</td>\n",
       "      <td>Station wagon (estate)</td>\n",
       "      <td>5</td>\n",
       "      <td>5</td>\n",
       "      <td>...</td>\n",
       "      <td>Spring Strut</td>\n",
       "      <td>Helical spring</td>\n",
       "      <td>Ventilated discs</td>\n",
       "      <td>Disc</td>\n",
       "      <td>ABS (Anti-lock braking system)</td>\n",
       "      <td>Steering rack and pinion</td>\n",
       "      <td>Hydraulic Steering</td>\n",
       "      <td>195/65 R15</td>\n",
       "      <td>15</td>\n",
       "      <td>(adsbygoogle = window.adsbygoogle || []).push(...</td>\n",
       "    </tr>\n",
       "  </tbody>\n",
       "</table>\n",
       "<p>2 rows × 71 columns</p>\n",
       "</div>"
      ],
      "text/plain": [
       "       Brand Model Generation Modification (Engine)       Start of production  \\\n",
       "Header       Brand      Model            Generation     Modification (Engine)   \n",
       "values        Audi        100     100 Avant (4A,C4)  2.8 E (174 Hp) Automatic   \n",
       "\n",
       "          End of production Powertrain Architecture  \\\n",
       "Header  Start of production       End of production   \n",
       "values            1991 year               1994 year   \n",
       "\n",
       "                         Body type                   Seats  Doors  \\\n",
       "Header     Powertrain Architecture               Body type  Seats   \n",
       "values  Internal Combustion engine  Station wagon (estate)      5   \n",
       "\n",
       "       Performance specs  ... Number of Gears (automatic transmission)  \\\n",
       "Header             Doors  ...                         Front suspension   \n",
       "values                 5  ...                             Spring Strut   \n",
       "\n",
       "       Front suspension   Rear suspension Front brakes  \\\n",
       "Header  Rear suspension      Front brakes  Rear brakes   \n",
       "values   Helical spring  Ventilated discs         Disc   \n",
       "\n",
       "                           Rear brakes         Assisting systems  \\\n",
       "Header               Assisting systems             Steering type   \n",
       "values  ABS (Anti-lock braking system)  Steering rack and pinion   \n",
       "\n",
       "             Steering type Power steering Tires size,Wheel rims size  \\\n",
       "Header      Power steering     Tires size            Wheel rims size   \n",
       "values  Hydraulic Steering     195/65 R15                         15   \n",
       "\n",
       "        (adsbygoogle = window.adsbygoogle || []).push({})  \n",
       "Header  (adsbygoogle = window.adsbygoogle || []).push(...  \n",
       "values  (adsbygoogle = window.adsbygoogle || []).push(...  \n",
       "\n",
       "[2 rows x 71 columns]"
      ]
     },
     "execution_count": 53,
     "metadata": {},
     "output_type": "execute_result"
    }
   ],
   "source": [
    "newdf1"
   ]
  },
  {
   "cell_type": "code",
   "execution_count": 54,
   "id": "03dd56b9",
   "metadata": {},
   "outputs": [
    {
     "name": "stdout",
     "output_type": "stream",
     "text": [
      "<class 'pandas.core.frame.DataFrame'>\n",
      "Index: 2 entries, Header to values\n",
      "Data columns (total 71 columns):\n",
      " #   Column  Non-Null Count  Dtype \n",
      "---  ------  --------------  ----- \n",
      " 0   0       2 non-null      object\n",
      " 1   1       2 non-null      object\n",
      " 2   2       2 non-null      object\n",
      " 3   3       2 non-null      object\n",
      " 4   4       2 non-null      object\n",
      " 5   5       2 non-null      object\n",
      " 6   6       2 non-null      object\n",
      " 7   7       2 non-null      object\n",
      " 8   8       2 non-null      object\n",
      " 9   9       2 non-null      object\n",
      " 10  10      2 non-null      object\n",
      " 11  11      2 non-null      object\n",
      " 12  12      2 non-null      object\n",
      " 13  13      2 non-null      object\n",
      " 14  14      2 non-null      object\n",
      " 15  15      2 non-null      object\n",
      " 16  16      2 non-null      object\n",
      " 17  17      2 non-null      object\n",
      " 18  18      2 non-null      object\n",
      " 19  19      2 non-null      object\n",
      " 20  20      2 non-null      object\n",
      " 21  21      2 non-null      object\n",
      " 22  22      2 non-null      object\n",
      " 23  23      2 non-null      object\n",
      " 24  24      2 non-null      object\n",
      " 25  25      2 non-null      object\n",
      " 26  26      2 non-null      object\n",
      " 27  27      2 non-null      object\n",
      " 28  28      2 non-null      object\n",
      " 29  29      2 non-null      object\n",
      " 30  30      2 non-null      object\n",
      " 31  31      2 non-null      object\n",
      " 32  32      2 non-null      object\n",
      " 33  33      2 non-null      object\n",
      " 34  34      2 non-null      object\n",
      " 35  35      2 non-null      object\n",
      " 36  36      2 non-null      object\n",
      " 37  37      2 non-null      object\n",
      " 38  38      2 non-null      object\n",
      " 39  39      2 non-null      object\n",
      " 40  40      2 non-null      object\n",
      " 41  41      2 non-null      object\n",
      " 42  42      2 non-null      object\n",
      " 43  43      2 non-null      object\n",
      " 44  44      2 non-null      object\n",
      " 45  45      2 non-null      object\n",
      " 46  46      2 non-null      object\n",
      " 47  47      2 non-null      object\n",
      " 48  48      2 non-null      object\n",
      " 49  49      2 non-null      object\n",
      " 50  50      2 non-null      object\n",
      " 51  51      2 non-null      object\n",
      " 52  52      2 non-null      object\n",
      " 53  53      2 non-null      object\n",
      " 54  54      2 non-null      object\n",
      " 55  55      2 non-null      object\n",
      " 56  56      2 non-null      object\n",
      " 57  57      2 non-null      object\n",
      " 58  58      2 non-null      object\n",
      " 59  59      2 non-null      object\n",
      " 60  60      2 non-null      object\n",
      " 61  61      2 non-null      object\n",
      " 62  62      2 non-null      object\n",
      " 63  63      2 non-null      object\n",
      " 64  64      2 non-null      object\n",
      " 65  65      2 non-null      object\n",
      " 66  66      2 non-null      object\n",
      " 67  67      2 non-null      object\n",
      " 68  68      2 non-null      object\n",
      " 69  69      2 non-null      object\n",
      " 70  70      2 non-null      object\n",
      "dtypes: object(71)\n",
      "memory usage: 1.1+ KB\n"
     ]
    }
   ],
   "source": []
  },
  {
   "cell_type": "code",
   "execution_count": 28,
   "id": "9d669538",
   "metadata": {},
   "outputs": [
    {
     "data": {
      "text/plain": [
       "0     0\n",
       "1     0\n",
       "2     0\n",
       "3     0\n",
       "4     0\n",
       "     ..\n",
       "66    0\n",
       "67    0\n",
       "68    0\n",
       "69    0\n",
       "70    0\n",
       "Length: 71, dtype: int64"
      ]
     },
     "execution_count": 28,
     "metadata": {},
     "output_type": "execute_result"
    }
   ],
   "source": [
    "new_df1.isnull().sum()"
   ]
  },
  {
   "cell_type": "code",
   "execution_count": 50,
   "id": "b2e01958",
   "metadata": {},
   "outputs": [],
   "source": [
    "newdf1.to_csv('file2.csv', header=True, index=False)"
   ]
  },
  {
   "cell_type": "code",
   "execution_count": null,
   "id": "a8798301",
   "metadata": {},
   "outputs": [],
   "source": []
  }
 ],
 "metadata": {
  "kernelspec": {
   "display_name": "Python 3",
   "language": "python",
   "name": "python3"
  },
  "language_info": {
   "codemirror_mode": {
    "name": "ipython",
    "version": 3
   },
   "file_extension": ".py",
   "mimetype": "text/x-python",
   "name": "python",
   "nbconvert_exporter": "python",
   "pygments_lexer": "ipython3",
   "version": "3.8.8"
  }
 },
 "nbformat": 4,
 "nbformat_minor": 5
}
